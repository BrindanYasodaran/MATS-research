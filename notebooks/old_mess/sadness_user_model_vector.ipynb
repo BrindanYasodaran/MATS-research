{
 "cells": [
  {
   "cell_type": "code",
   "execution_count": 41,
   "id": "30f71dfd",
   "metadata": {},
   "outputs": [],
   "source": [
    "import random\n",
    "from pathlib import Path\n",
    "\n",
    "import torch\n",
    "from transformer_lens import HookedTransformer\n",
    "\n",
    "\n",
    "from collections import defaultdict\n",
    "from tqdm.auto import tqdm\n",
    "\n",
    "\n",
    "import pandas as pd\n",
    "from IPython.display import display\n",
    "from functools import partial\n",
    "from tqdm.auto import tqdm\n",
    "\n",
    "\n",
    "from sklearn.model_selection import train_test_split\n",
    "\n",
    "import torch.nn as nn\n",
    "from torch.utils.data import TensorDataset, DataLoader\n",
    "import numpy as np"
   ]
  },
  {
   "cell_type": "markdown",
   "id": "7b3becec",
   "metadata": {},
   "source": [
    "# Obtaining user model vector"
   ]
  },
  {
   "cell_type": "code",
   "execution_count": 6,
   "id": "61bba935",
   "metadata": {},
   "outputs": [
    {
     "name": "stdout",
     "output_type": "stream",
     "text": [
      "Using device: cuda\n"
     ]
    },
    {
     "name": "stderr",
     "output_type": "stream",
     "text": [
      "`torch_dtype` is deprecated! Use `dtype` instead!\n",
      "Loading checkpoint shards: 100%|██████████| 4/4 [00:00<00:00, 79.85it/s]\n",
      "WARNING:root:With reduced precision, it is advised to use `from_pretrained_no_processing` instead of `from_pretrained`.\n",
      "WARNING:root:You are not using LayerNorm, so the writing weights can't be centered! Skipping\n"
     ]
    },
    {
     "name": "stdout",
     "output_type": "stream",
     "text": [
      "Loaded pretrained model meta-llama/Meta-Llama-3-8B-Instruct into HookedTransformer\n"
     ]
    }
   ],
   "source": [
    "\n",
    "# Set the device\n",
    "device = \"cuda\" if torch.cuda.is_available() else \"cpu\"\n",
    "print(f\"Using device: {device}\")\n",
    "\n",
    "# Load the model and tokenizer\n",
    "model = HookedTransformer.from_pretrained(\n",
    "    \"meta-llama/Meta-Llama-3-8B-Instruct\",\n",
    "    device=device,\n",
    "    torch_dtype=torch.bfloat16 # Use bfloat16 to save memory\n",
    ")"
   ]
  },
  {
   "cell_type": "code",
   "execution_count": 36,
   "id": "f8d0cc7e",
   "metadata": {},
   "outputs": [
    {
     "name": "stdout",
     "output_type": "stream",
     "text": [
      "Total happy prompts: 505\n",
      "Total sad prompts: 532\n"
     ]
    }
   ],
   "source": [
    "def load_data(filepath):\n",
    "    with open(filepath, encoding='utf-8') as f:\n",
    "        return [l.strip() for l in f if l.strip()]\n",
    "\n",
    "\n",
    "happy_filepath = '/workspace/MATS-research/data/emotion_user_prompts/happiness.txt'\n",
    "sad_filepath = '/workspace/MATS-research/data/emotion_user_prompts/sadness.txt' # Assuming you have a sadness.txt file\n",
    "\n",
    "all_happy_prompts = load_data(happy_filepath)\n",
    "all_sad_prompts   = load_data(sad_filepath)\n",
    "\n",
    "\n",
    "print(f\"Total happy prompts: {len(all_happy_prompts)}\")\n",
    "print(f\"Total sad prompts: {len(all_sad_prompts)}\")"
   ]
  },
  {
   "cell_type": "code",
   "execution_count": 37,
   "id": "131467af",
   "metadata": {},
   "outputs": [
    {
     "name": "stdout",
     "output_type": "stream",
     "text": [
      "\n",
      "Extracting activations from all sad prompts...\n"
     ]
    },
    {
     "name": "stderr",
     "output_type": "stream",
     "text": [
      "Processing Batches: 100%|██████████| 17/17 [00:03<00:00,  4.73it/s]\n"
     ]
    },
    {
     "name": "stdout",
     "output_type": "stream",
     "text": [
      "\n",
      "Extracting activations from all happy prompts...\n"
     ]
    },
    {
     "name": "stderr",
     "output_type": "stream",
     "text": [
      "Processing Batches: 100%|██████████| 16/16 [00:02<00:00,  5.35it/s]"
     ]
    },
    {
     "name": "stdout",
     "output_type": "stream",
     "text": [
      "\n",
      "Finished. Example shape for layer 15 (sad): torch.Size([532, 4096])\n",
      "Finished. Example shape for layer 15 (happy): torch.Size([505, 4096])\n"
     ]
    },
    {
     "name": "stderr",
     "output_type": "stream",
     "text": [
      "\n"
     ]
    }
   ],
   "source": [
    "def get_last_token_activations(model, tokenizer, prompts, layers, batch_size=32):\n",
    "    \"\"\"\n",
    "    Extracts residual stream activations at the last token position for specified layers.\n",
    "    \"\"\"\n",
    "    if tokenizer.pad_token is None:\n",
    "        tokenizer.pad_token = tokenizer.eos_token\n",
    "        \n",
    "    activations = defaultdict(list)\n",
    "    \n",
    "    for i in tqdm(range(0, len(prompts), batch_size), desc=\"Processing Batches\"):\n",
    "        batch_prompts = prompts[i:i+batch_size]\n",
    "        \n",
    "        tokenizer.padding_side = \"left\"\n",
    "        tokens = tokenizer(batch_prompts, return_tensors=\"pt\", padding=True)\n",
    "        \n",
    "        seq_lengths = (tokens.input_ids != tokenizer.pad_token_id).sum(dim=1) - 1\n",
    "        \n",
    "        hook_names = [f\"blocks.{layer}.hook_resid_post\" for layer in layers]\n",
    "        \n",
    "        with torch.no_grad():\n",
    "            _, cache = model.run_with_cache(\n",
    "                tokens.input_ids.to(model.cfg.device), \n",
    "                names_filter=lambda name: name in hook_names\n",
    "            )\n",
    "\n",
    "        for layer in layers:\n",
    "            hook_name = f\"blocks.{layer}.hook_resid_post\"\n",
    "            layer_activations = cache[hook_name].cpu()\n",
    "            \n",
    "            for j, length in enumerate(seq_lengths):\n",
    "                last_token_activation = layer_activations[j, length, :]\n",
    "                activations[layer].append(last_token_activation)\n",
    "\n",
    "    for layer in activations:\n",
    "        activations[layer] = torch.stack(activations[layer])\n",
    "        \n",
    "    return activations\n",
    "\n",
    "# Specify the target layers you want to create probes for\n",
    "target_layers = list(range(15, 31))\n",
    "\n",
    "print(\"\\nExtracting activations from all sad prompts...\")\n",
    "sad_activations = get_last_token_activations(model, model.tokenizer, all_sad_prompts, target_layers)\n",
    "\n",
    "print(\"\\nExtracting activations from all happy prompts...\")\n",
    "happy_activations = get_last_token_activations(model, model.tokenizer, all_happy_prompts, target_layers)\n",
    "\n",
    "print(f\"\\nFinished. Example shape for layer 15 (sad): {sad_activations[15].shape}\")\n",
    "print(f\"Finished. Example shape for layer 15 (happy): {happy_activations[15].shape}\")\n"
   ]
  },
  {
   "cell_type": "code",
   "execution_count": 40,
   "id": "d25f6f7f",
   "metadata": {},
   "outputs": [
    {
     "name": "stdout",
     "output_type": "stream",
     "text": [
      "\n",
      "Splitting activations into training and validation sets for probe training...\n",
      "\n",
      "--- Data for Layer 18 ---\n",
      "Shape of X_train: torch.Size([829, 4096])\n",
      "Shape of y_train: torch.Size([829])\n",
      "Shape of X_val: torch.Size([208, 4096])\n",
      "Shape of y_val: torch.Size([208])\n",
      "Training set balance: 425 sad samples, 404 happy samples.\n"
     ]
    }
   ],
   "source": [
    "\n",
    "\n",
    "def prepare_data_for_probe_training(sad_activations, happy_activations, layers, test_size=0.2, random_state=42):\n",
    "    \"\"\"\n",
    "    Combines sad and happy activations, creates labels, and splits into train/validation sets.\n",
    "    \"\"\"\n",
    "    train_data = {}\n",
    "    val_data = {}\n",
    "\n",
    "    for layer in layers:\n",
    "        sad_acts = sad_activations[layer]\n",
    "        happy_acts = happy_activations[layer]\n",
    "        \n",
    "        all_activations = torch.cat([sad_acts, happy_acts], dim=0)\n",
    "        \n",
    "        sad_labels = torch.ones(sad_acts.shape[0], dtype=torch.long)\n",
    "        happy_labels = torch.zeros(happy_acts.shape[0], dtype=torch.long)\n",
    "        all_labels = torch.cat([sad_labels, happy_labels], dim=0)\n",
    "        \n",
    "        X_train, X_val, y_train, y_val = train_test_split(\n",
    "            all_activations, \n",
    "            all_labels, \n",
    "            test_size=test_size, \n",
    "            random_state=random_state,\n",
    "            stratify=all_labels\n",
    "        )\n",
    "        \n",
    "        train_data[layer] = {'X_train': X_train, 'y_train': y_train}\n",
    "        val_data[layer] = {'X_val': X_val, 'y_val': y_val}\n",
    "\n",
    "    return train_data, val_data\n",
    "\n",
    "print(\"\\nSplitting activations into training and validation sets for probe training...\")\n",
    "probe_train_data, probe_val_data = prepare_data_for_probe_training(\n",
    "    sad_activations, \n",
    "    happy_activations, \n",
    "    target_layers\n",
    ")\n",
    "\n",
    "# --- Verification ---\n",
    "example_layer = 18\n",
    "print(f\"\\n--- Data for Layer {example_layer} ---\")\n",
    "print(f\"Shape of X_train: {probe_train_data[example_layer]['X_train'].shape}\")\n",
    "print(f\"Shape of y_train: {probe_train_data[example_layer]['y_train'].shape}\")\n",
    "print(f\"Shape of X_val: {probe_val_data[example_layer]['X_val'].shape}\")\n",
    "print(f\"Shape of y_val: {probe_val_data[example_layer]['y_val'].shape}\")\n",
    "\n",
    "sad_count = (probe_train_data[example_layer]['y_train'] == 1).sum()\n",
    "happy_count = (probe_train_data[example_layer]['y_train'] == 0).sum()\n",
    "print(f\"Training set balance: {sad_count} sad samples, {happy_count} happy samples.\")"
   ]
  },
  {
   "cell_type": "code",
   "execution_count": 45,
   "id": "c2fa575c",
   "metadata": {},
   "outputs": [],
   "source": [
    "\n",
    "class LinearProbe(nn.Module):\n",
    "    \"\"\"A simple linear probe for classification.\"\"\"\n",
    "    def __init__(self, d_model):\n",
    "        super().__init__()\n",
    "        # For a binary task (happy vs. sad), we only need one output logit.\n",
    "        # A positive logit will predict \"sad\" (class 1), negative will predict \"happy\" (class 0).\n",
    "        self.probe = nn.Linear(d_model, 1)\n",
    "\n",
    "    def forward(self, x):\n",
    "        # We return the raw logit, the loss function will handle the sigmoid\n",
    "        return self.probe(x).squeeze(-1)\n",
    "\n",
    "# --- Phase 5: Training and Evaluation Loop ---\n",
    "def train_probe(probe, train_loader, val_loader, optimizer, criterion, n_epochs=10, device=\"cuda\"):\n",
    "    \"\"\"A standard training loop for the probe.\"\"\"\n",
    "    \n",
    "    train_losses = []\n",
    "    val_losses = []\n",
    "    val_accuracies = []\n",
    "    \n",
    "    for epoch in range(n_epochs):\n",
    "        probe.train()\n",
    "        epoch_train_loss = 0\n",
    "        for X_batch, y_batch in train_loader:\n",
    "            # THE FIX IS HERE: Ensure input tensor has the same dtype as the probe's weights\n",
    "            X_batch, y_batch = X_batch.to(device).to(torch.float32), y_batch.to(device)\n",
    "            \n",
    "            optimizer.zero_grad()\n",
    "            logits = probe(X_batch)\n",
    "            loss = criterion(logits, y_batch.float())\n",
    "            loss.backward()\n",
    "            optimizer.step()\n",
    "            epoch_train_loss += loss.item()\n",
    "        \n",
    "        train_losses.append(epoch_train_loss / len(train_loader))\n",
    "        \n",
    "        # Validation\n",
    "        probe.eval()\n",
    "        epoch_val_loss = 0\n",
    "        correct = 0\n",
    "        total = 0\n",
    "        with torch.no_grad():\n",
    "            for X_batch, y_batch in val_loader:\n",
    "                # AND THE FIX IS HERE for the validation loop\n",
    "                X_batch, y_batch = X_batch.to(device).to(torch.float32), y_batch.to(device)\n",
    "                \n",
    "                logits = probe(X_batch)\n",
    "                loss = criterion(logits, y_batch.float())\n",
    "                epoch_val_loss += loss.item()\n",
    "                \n",
    "                # Accuracy calculation\n",
    "                preds = (torch.sigmoid(logits) > 0.5).long()\n",
    "                correct += (preds == y_batch).sum().item()\n",
    "                total += y_batch.size(0)\n",
    "        \n",
    "        val_losses.append(epoch_val_loss / len(val_loader))\n",
    "        val_accuracies.append(correct / total)\n",
    "    \n",
    "    return {\n",
    "        \"final_val_accuracy\": val_accuracies[-1],\n",
    "        \"val_accuracies\": val_accuracies,\n",
    "        \"train_losses\": train_losses,\n",
    "        \"val_losses\": val_losses\n",
    "    }"
   ]
  },
  {
   "cell_type": "code",
   "execution_count": 43,
   "id": "ac9e3c9e",
   "metadata": {},
   "outputs": [],
   "source": [
    "\n",
    "# Dictionary to store trained probes and their results\n",
    "trained_probes = {}\n",
    "probe_results = {}\n",
    "\n",
    "# Training Hyperparameters\n",
    "LEARNING_RATE = 1e-3\n",
    "BATCH_SIZE = 256\n",
    "NUM_EPOCHS = 20\n",
    "\n",
    "# The loss function combines a Sigmoid layer with Binary Cross Entropy.\n",
    "# It's numerically more stable than using a Sigmoid layer in the probe and then BCELoss.\n",
    "criterion = nn.BCEWithLogitsLoss()\n"
   ]
  },
  {
   "cell_type": "code",
   "execution_count": 46,
   "id": "14f4a35c",
   "metadata": {},
   "outputs": [
    {
     "name": "stderr",
     "output_type": "stream",
     "text": [
      "Training Probes for Each Layer:   6%|▋         | 1/16 [00:00<00:04,  3.05it/s]"
     ]
    },
    {
     "name": "stdout",
     "output_type": "stream",
     "text": [
      "Layer 15: Final Validation Accuracy = 0.7260\n"
     ]
    },
    {
     "name": "stderr",
     "output_type": "stream",
     "text": [
      "Training Probes for Each Layer:  12%|█▎        | 2/16 [00:00<00:03,  3.80it/s]"
     ]
    },
    {
     "name": "stdout",
     "output_type": "stream",
     "text": [
      "Layer 16: Final Validation Accuracy = 0.7548\n"
     ]
    },
    {
     "name": "stderr",
     "output_type": "stream",
     "text": [
      "Training Probes for Each Layer:  19%|█▉        | 3/16 [00:00<00:03,  4.10it/s]"
     ]
    },
    {
     "name": "stdout",
     "output_type": "stream",
     "text": [
      "Layer 17: Final Validation Accuracy = 0.7404\n"
     ]
    },
    {
     "name": "stderr",
     "output_type": "stream",
     "text": [
      "Training Probes for Each Layer:  25%|██▌       | 4/16 [00:00<00:02,  4.29it/s]"
     ]
    },
    {
     "name": "stdout",
     "output_type": "stream",
     "text": [
      "Layer 18: Final Validation Accuracy = 0.7356\n"
     ]
    },
    {
     "name": "stderr",
     "output_type": "stream",
     "text": [
      "Training Probes for Each Layer:  31%|███▏      | 5/16 [00:01<00:02,  4.43it/s]"
     ]
    },
    {
     "name": "stdout",
     "output_type": "stream",
     "text": [
      "Layer 19: Final Validation Accuracy = 0.7404\n"
     ]
    },
    {
     "name": "stderr",
     "output_type": "stream",
     "text": [
      "Training Probes for Each Layer:  38%|███▊      | 6/16 [00:01<00:02,  4.47it/s]"
     ]
    },
    {
     "name": "stdout",
     "output_type": "stream",
     "text": [
      "Layer 20: Final Validation Accuracy = 0.7404\n"
     ]
    },
    {
     "name": "stderr",
     "output_type": "stream",
     "text": [
      "Training Probes for Each Layer:  44%|████▍     | 7/16 [00:01<00:02,  4.48it/s]"
     ]
    },
    {
     "name": "stdout",
     "output_type": "stream",
     "text": [
      "Layer 21: Final Validation Accuracy = 0.7404\n"
     ]
    },
    {
     "name": "stderr",
     "output_type": "stream",
     "text": [
      "Training Probes for Each Layer:  50%|█████     | 8/16 [00:01<00:01,  4.58it/s]"
     ]
    },
    {
     "name": "stdout",
     "output_type": "stream",
     "text": [
      "Layer 22: Final Validation Accuracy = 0.7644\n"
     ]
    },
    {
     "name": "stderr",
     "output_type": "stream",
     "text": [
      "Training Probes for Each Layer:  56%|█████▋    | 9/16 [00:02<00:01,  4.67it/s]"
     ]
    },
    {
     "name": "stdout",
     "output_type": "stream",
     "text": [
      "Layer 23: Final Validation Accuracy = 0.7644\n"
     ]
    },
    {
     "name": "stderr",
     "output_type": "stream",
     "text": [
      "Training Probes for Each Layer:  62%|██████▎   | 10/16 [00:02<00:01,  4.73it/s]"
     ]
    },
    {
     "name": "stdout",
     "output_type": "stream",
     "text": [
      "Layer 24: Final Validation Accuracy = 0.7692\n"
     ]
    },
    {
     "name": "stderr",
     "output_type": "stream",
     "text": [
      "Training Probes for Each Layer:  69%|██████▉   | 11/16 [00:02<00:01,  4.75it/s]"
     ]
    },
    {
     "name": "stdout",
     "output_type": "stream",
     "text": [
      "Layer 25: Final Validation Accuracy = 0.7500\n"
     ]
    },
    {
     "name": "stderr",
     "output_type": "stream",
     "text": [
      "Training Probes for Each Layer:  75%|███████▌  | 12/16 [00:02<00:00,  4.74it/s]"
     ]
    },
    {
     "name": "stdout",
     "output_type": "stream",
     "text": [
      "Layer 26: Final Validation Accuracy = 0.7596\n"
     ]
    },
    {
     "name": "stderr",
     "output_type": "stream",
     "text": [
      "Training Probes for Each Layer:  81%|████████▏ | 13/16 [00:02<00:00,  4.78it/s]"
     ]
    },
    {
     "name": "stdout",
     "output_type": "stream",
     "text": [
      "Layer 27: Final Validation Accuracy = 0.7644\n"
     ]
    },
    {
     "name": "stderr",
     "output_type": "stream",
     "text": [
      "Training Probes for Each Layer:  88%|████████▊ | 14/16 [00:03<00:00,  4.81it/s]"
     ]
    },
    {
     "name": "stdout",
     "output_type": "stream",
     "text": [
      "Layer 28: Final Validation Accuracy = 0.7548\n"
     ]
    },
    {
     "name": "stderr",
     "output_type": "stream",
     "text": [
      "Training Probes for Each Layer:  94%|█████████▍| 15/16 [00:03<00:00,  4.04it/s]"
     ]
    },
    {
     "name": "stdout",
     "output_type": "stream",
     "text": [
      "Layer 29: Final Validation Accuracy = 0.7788\n"
     ]
    },
    {
     "name": "stderr",
     "output_type": "stream",
     "text": [
      "Training Probes for Each Layer: 100%|██████████| 16/16 [00:03<00:00,  4.40it/s]"
     ]
    },
    {
     "name": "stdout",
     "output_type": "stream",
     "text": [
      "Layer 30: Final Validation Accuracy = 0.7692\n"
     ]
    },
    {
     "name": "stderr",
     "output_type": "stream",
     "text": [
      "\n"
     ]
    }
   ],
   "source": [
    "# Loop through each layer and train a probe\n",
    "for layer in tqdm(target_layers, desc=\"Training Probes for Each Layer\"):\n",
    "    # Create datasets and dataloaders for the current layer\n",
    "    train_dataset = TensorDataset(probe_train_data[layer]['X_train'], probe_train_data[layer]['y_train'])\n",
    "    val_dataset = TensorDataset(probe_val_data[layer]['X_val'], probe_val_data[layer]['y_val'])\n",
    "    \n",
    "    train_loader = DataLoader(train_dataset, batch_size=BATCH_SIZE, shuffle=True)\n",
    "    val_loader = DataLoader(val_dataset, batch_size=BATCH_SIZE)\n",
    "    \n",
    "    # Initialize the probe and optimizer\n",
    "    d_model = model.cfg.d_model\n",
    "    probe = LinearProbe(d_model).to(device)\n",
    "    optimizer = torch.optim.Adam(probe.parameters(), lr=LEARNING_RATE)\n",
    "    \n",
    "    # Train the probe\n",
    "    results = train_probe(probe, train_loader, val_loader, optimizer, criterion, n_epochs=NUM_EPOCHS, device=device)\n",
    "    \n",
    "    # Store the trained probe and its results\n",
    "    trained_probes[layer] = probe\n",
    "    probe_results[layer] = results\n",
    "    \n",
    "    print(f\"Layer {layer}: Final Validation Accuracy = {results['final_val_accuracy']:.4f}\")\n"
   ]
  },
  {
   "cell_type": "code",
   "execution_count": 47,
   "id": "f5214446",
   "metadata": {},
   "outputs": [
    {
     "name": "stdout",
     "output_type": "stream",
     "text": [
      "\n",
      "Best probe is from Layer 29 with a validation accuracy of 0.7788\n"
     ]
    }
   ],
   "source": [
    "\n",
    "best_layer = -1\n",
    "best_accuracy = -1\n",
    "for layer, results in probe_results.items():\n",
    "    if results['final_val_accuracy'] > best_accuracy:\n",
    "        best_accuracy = results['final_val_accuracy']\n",
    "        best_layer = layer\n",
    "\n",
    "print(f\"\\nBest probe is from Layer {best_layer} with a validation accuracy of {best_accuracy:.4f}\")"
   ]
  },
  {
   "cell_type": "code",
   "execution_count": 48,
   "id": "35624fc9",
   "metadata": {},
   "outputs": [
    {
     "name": "stdout",
     "output_type": "stream",
     "text": [
      "Extracted sadness vector from Layer 29 probe.\n",
      "Vector shape: torch.Size([4096])\n",
      "Vector norm: 1.4876\n"
     ]
    }
   ],
   "source": [
    "\n",
    "# Use the best layer you found from the previous step\n",
    "best_layer = 29\n",
    "best_probe = trained_probes[best_layer]\n",
    "\n",
    "# The steering vector is the weight of the linear probe.\n",
    "# The probe has one output logit, so its weight matrix has shape [1, d_model].\n",
    "# We just want the vector, so we take the first (and only) row.\n",
    "sadness_vector = best_probe.probe.weight[0].detach()\n",
    "\n",
    "print(f\"Extracted sadness vector from Layer {best_layer} probe.\")\n",
    "print(f\"Vector shape: {sadness_vector.shape}\")\n",
    "print(f\"Vector norm: {torch.linalg.norm(sadness_vector).item():.4f}\")\n"
   ]
  },
  {
   "cell_type": "code",
   "execution_count": 49,
   "id": "e463ae7f",
   "metadata": {},
   "outputs": [],
   "source": [
    "\n",
    "def test_steering_with_probe_vector(model, tokenizer, prompt, layer, steering_vector, steering_coefficient):\n",
    "    \"\"\"\n",
    "    Tests the effect of the probe's steering vector on a single prompt.\n",
    "    \"\"\"\n",
    "    # --- 1. Generate Original Output (using the chat template) ---\n",
    "    print(\"\\n\" + \"=\"*30)\n",
    "    print(\"--- Original Output ---\")\n",
    "    \n",
    "    chat_prompt = tokenizer.apply_chat_template([{\"role\": \"user\", \"content\": prompt}], tokenize=False, add_generation_prompt=True)\n",
    "    \n",
    "    original_output = model.generate(\n",
    "        chat_prompt, \n",
    "        max_new_tokens=60, \n",
    "        do_sample=False,\n",
    "        # Turn off verbose printing for cleaner output\n",
    "        verbose=False \n",
    "    )\n",
    "    print(original_output)\n",
    "\n",
    "    # --- 2. Generate Steered Output ---\n",
    "    print(f\"\\n--- Steered Output (Layer {layer}, Coef {steering_coefficient}) ---\")\n",
    "    \n",
    "    # Move vector to the correct device and apply the coefficient\n",
    "    scaled_vector = steering_coefficient * steering_vector.to(model.cfg.device)\n",
    "\n",
    "    # Define the hook function that will be applied at the specified layer\n",
    "    def steering_hook(activation, hook):\n",
    "        # We add the vector to every token position in the response\n",
    "        # In generation, this means we modify the state for each new token\n",
    "        activation[:, -1, :] += scaled_vector\n",
    "        return activation\n",
    "\n",
    "    # Define the hook point\n",
    "    hook_name = f\"blocks.{layer}.hook_resid_post\"\n",
    "\n",
    "    # Use the model.hooks() context manager to temporarily add the hook\n",
    "    with model.hooks(fwd_hooks=[(hook_name, steering_hook)]):\n",
    "        steered_output = model.generate(\n",
    "            chat_prompt, \n",
    "            max_new_tokens=60, \n",
    "            do_sample=False,\n",
    "            verbose=False\n",
    "        )\n",
    "    \n",
    "    print(steered_output)\n",
    "    print(\"=\"*30 + \"\\n\")"
   ]
  },
  {
   "cell_type": "code",
   "execution_count": 53,
   "id": "a8692d1d",
   "metadata": {},
   "outputs": [
    {
     "name": "stdout",
     "output_type": "stream",
     "text": [
      "\n",
      "==============================\n",
      "--- Original Output ---\n"
     ]
    },
    {
     "name": "stdout",
     "output_type": "stream",
     "text": [
      "user\n",
      "\n",
      "I played football outside today.assistant\n",
      "\n",
      "That sounds like a lot of fun! Did you have a good time playing football outside? Was it a game with friends, a pick-up game, or a organized league?\n",
      "\n",
      "--- Steered Output (Layer 29, Coef 3) ---\n",
      "user\n",
      "\n",
      "I played football outside today.assistant\n",
      "\n",
      "That sounds like a lot of fun! Did you have a good time playing football outside? Was it a game with friends, a pick-up game, or a organized league?\n",
      "==============================\n",
      "\n"
     ]
    }
   ],
   "source": [
    "\n",
    "# This prompt is neutral/positive, so we expect steering to make it more empathetic/comforting\n",
    "test_prompt = \"I played football outside today.\"\n",
    "\n",
    "# We will steer at the layer where we found the best probe\n",
    "test_layer_for_steering = best_layer\n",
    "\n",
    "# Let's test a range of coefficients to see the effect\n",
    "coefficients_to_test = [3] \n",
    "\n",
    "for coef in coefficients_to_test:\n",
    "    test_steering_with_probe_vector(\n",
    "        model, \n",
    "        model.tokenizer, \n",
    "        test_prompt, \n",
    "        test_layer_for_steering, \n",
    "        sadness_vector, \n",
    "        coef\n",
    "    )"
   ]
  },
  {
   "cell_type": "markdown",
   "id": "d3460e75",
   "metadata": {},
   "source": [
    "# OLD (IGNORE)"
   ]
  },
  {
   "cell_type": "code",
   "execution_count": 2,
   "id": "1af45596",
   "metadata": {},
   "outputs": [],
   "source": [
    "# Now, the script to load and split the data\n",
    "def load_and_split_data(filepath, train_split=0.8, seed=42):\n",
    "    \"\"\"Loads a text file, shuffles, and splits it into training and test sets.\"\"\"\n",
    "    with open(filepath, 'r', encoding='utf-8') as f:\n",
    "        lines = [line.strip() for line in f if line.strip()]\n",
    "    \n",
    "    random.seed(seed)\n",
    "    random.shuffle(lines)\n",
    "    \n",
    "    split_index = int(len(lines) * train_split)\n",
    "    train_lines = lines[:split_index]\n",
    "    test_lines = lines[split_index:]\n",
    "    \n",
    "    return train_lines, test_lines\n"
   ]
  },
  {
   "cell_type": "code",
   "execution_count": 3,
   "id": "c2587c17",
   "metadata": {},
   "outputs": [
    {
     "name": "stdout",
     "output_type": "stream",
     "text": [
      "Happy train samples: 404\n",
      "Happy test samples: 101\n",
      "Sad train samples: 425\n",
      "Sad test samples: 107\n",
      "\n",
      "First happy training sample: Describe a perfect picnic in a meadow.\n",
      "First sad training sample: Help me plan a day of self-compassion and rest\n"
     ]
    }
   ],
   "source": [
    "# Define the file paths\n",
    "happy_filepath = '/workspace/MATS-research/data/emotion_user_prompts/happiness.txt'\n",
    "sad_filepath = '/workspace/MATS-research/data/emotion_user_prompts/sadness.txt' # Assuming you have a sadness.txt file\n",
    "\n",
    "# Load and split both datasets\n",
    "happy_train, happy_test = load_and_split_data(happy_filepath)\n",
    "sad_train, sad_test = load_and_split_data(sad_filepath)\n",
    "\n",
    "print(f\"Happy train samples: {len(happy_train)}\")\n",
    "print(f\"Happy test samples: {len(happy_test)}\")\n",
    "print(f\"Sad train samples: {len(sad_train)}\")\n",
    "print(f\"Sad test samples: {len(sad_test)}\")\n",
    "print(\"\\nFirst happy training sample:\", happy_train[0])\n",
    "print(\"First sad training sample:\", sad_train[0])\n"
   ]
  },
  {
   "cell_type": "code",
   "execution_count": 8,
   "id": "e17e649d",
   "metadata": {},
   "outputs": [],
   "source": [
    "\n",
    "def get_last_token_activations(model, tokenizer, prompts, layers, batch_size=32):\n",
    "    \"\"\"\n",
    "    Extracts residual stream activations at the last token position for specified layers.\n",
    "    \"\"\"\n",
    "    # Ensure the tokenizer has a padding token\n",
    "    if tokenizer.pad_token is None:\n",
    "        tokenizer.pad_token = tokenizer.eos_token\n",
    "        \n",
    "    activations = defaultdict(list)\n",
    "    \n",
    "    for i in tqdm(range(0, len(prompts), batch_size), desc=\"Processing Batches\"):\n",
    "        batch_prompts = prompts[i:i+batch_size]\n",
    "        \n",
    "        # Tokenize the batch with left padding\n",
    "        tokenizer.padding_side = \"left\"\n",
    "        tokens = tokenizer(batch_prompts, return_tensors=\"pt\", padding=True)\n",
    "        \n",
    "        # We need the sequence lengths to find the last token of each prompt\n",
    "        seq_lengths = (tokens.input_ids != tokenizer.pad_token_id).sum(dim=1) - 1\n",
    "        \n",
    "        # Define hook names\n",
    "        hook_names = [f\"blocks.{layer}.hook_resid_post\" for layer in layers]\n",
    "        \n",
    "        with torch.no_grad():\n",
    "            _, cache = model.run_with_cache(\n",
    "                tokens.input_ids.to(model.cfg.device), \n",
    "                names_filter=lambda name: name in hook_names\n",
    "            )\n",
    "\n",
    "        # For each layer, extract the activation at the last token position\n",
    "        for layer in layers:\n",
    "            hook_name = f\"blocks.{layer}.hook_resid_post\"\n",
    "            # Get activations for the current batch and move to CPU\n",
    "            layer_activations = cache[hook_name].cpu()\n",
    "            \n",
    "            # For each prompt in the batch, get the activation of its last token\n",
    "            for j, length in enumerate(seq_lengths):\n",
    "                last_token_activation = layer_activations[j, length, :]\n",
    "                activations[layer].append(last_token_activation)\n",
    "\n",
    "    # Stack the lists of tensors for each layer\n",
    "    for layer in activations:\n",
    "        activations[layer] = torch.stack(activations[layer])\n",
    "        \n",
    "    return activations\n"
   ]
  },
  {
   "cell_type": "code",
   "execution_count": null,
   "id": "dc2c8340",
   "metadata": {},
   "outputs": [
    {
     "name": "stdout",
     "output_type": "stream",
     "text": [
      "Extracting sad activations...\n"
     ]
    },
    {
     "name": "stderr",
     "output_type": "stream",
     "text": [
      "Processing Batches:   0%|          | 0/14 [00:00<?, ?it/s]"
     ]
    },
    {
     "name": "stderr",
     "output_type": "stream",
     "text": [
      "Processing Batches: 100%|██████████| 14/14 [00:03<00:00,  4.18it/s]\n"
     ]
    },
    {
     "name": "stdout",
     "output_type": "stream",
     "text": [
      "\n",
      "Extracting happy activations...\n"
     ]
    },
    {
     "name": "stderr",
     "output_type": "stream",
     "text": [
      "Processing Batches: 100%|██████████| 13/13 [00:02<00:00,  4.88it/s]"
     ]
    },
    {
     "name": "stdout",
     "output_type": "stream",
     "text": [
      "\n",
      "Finished. Example shape for layer 15 (sad): torch.Size([425, 4096])\n",
      "Finished. Example shape for layer 15 (happy): torch.Size([404, 4096])\n"
     ]
    },
    {
     "name": "stderr",
     "output_type": "stream",
     "text": [
      "\n"
     ]
    }
   ],
   "source": [
    "# Specify the target layers\n",
    "target_layers = list(range(15, 30))\n",
    "\n",
    "# Extract activations for both sad and happy training sets\n",
    "print(\"Extracting sad activations...\")\n",
    "sad_activations = get_last_token_activations(model, model.tokenizer, sad_train, target_layers)\n",
    "\n",
    "print(\"\\nExtracting happy activations...\")\n",
    "happy_activations = get_last_token_activations(model, model.tokenizer, happy_train, target_layers)\n",
    "\n",
    "print(f\"\\nFinished. Example shape for layer 15 (sad): {sad_activations[15].shape}\")\n",
    "print(f\"Finished. Example shape for layer 15 (happy): {happy_activations[15].shape}\")"
   ]
  },
  {
   "cell_type": "code",
   "execution_count": 10,
   "id": "8ce78604",
   "metadata": {},
   "outputs": [
    {
     "name": "stdout",
     "output_type": "stream",
     "text": [
      "Persona vectors computed for all target layers.\n",
      "Example vector shape for layer 15: torch.Size([4096])\n",
      "Norm of layer 15 vector: 13.8750\n",
      "Norm of layer 25 vector: 14.1875\n"
     ]
    }
   ],
   "source": [
    "def compute_persona_vectors(sad_activations, happy_activations, layers):\n",
    "    \"\"\"\n",
    "    Computes the persona vector for each layer by taking the difference\n",
    "    of the mean activations (sad - happy).\n",
    "    \"\"\"\n",
    "    persona_vectors = {}\n",
    "    for layer in layers:\n",
    "        mean_sad_vec = sad_activations[layer].mean(dim=0)\n",
    "        mean_happy_vec = happy_activations[layer].mean(dim=0)\n",
    "        persona_vectors[layer] = mean_sad_vec - mean_happy_vec\n",
    "    return persona_vectors\n",
    "\n",
    "# Compute the sadness vectors\n",
    "sadness_vectors = compute_persona_vectors(sad_activations, happy_activations, target_layers)\n",
    "\n",
    "print(\"Persona vectors computed for all target layers.\")\n",
    "print(f\"Example vector shape for layer 15: {sadness_vectors[15].shape}\")\n",
    "print(f\"Norm of layer 15 vector: {torch.linalg.norm(sadness_vectors[15]).item():.4f}\")\n",
    "print(f\"Norm of layer 25 vector: {torch.linalg.norm(sadness_vectors[25]).item():.4f}\")"
   ]
  },
  {
   "cell_type": "markdown",
   "id": "d7e369d3",
   "metadata": {},
   "source": [
    "# Validating user model vector"
   ]
  },
  {
   "cell_type": "code",
   "execution_count": 20,
   "id": "75bbd538",
   "metadata": {},
   "outputs": [],
   "source": [
    "def test_single_steering_nudge(model, tokenizer, prompt, layer, sadness_vectors, steering_coefficient):\n",
    "    \"\"\"\n",
    "    Applies a steering vector ONLY at the final token of the prompt,\n",
    "    then lets the model generate the rest of its output.\n",
    "    \"\"\"\n",
    "    # --- 1. Generate Original Output ---\n",
    "    print(\"--- Original Output ---\")\n",
    "    chat_prompt = tokenizer.apply_chat_template([{\"role\": \"user\", \"content\": prompt}], tokenize=False, add_generation_prompt=True)\n",
    "    \n",
    "    original_output = model.generate(\n",
    "        chat_prompt, \n",
    "        max_new_tokens=50, \n",
    "        do_sample=False\n",
    "    )\n",
    "    print(original_output)\n",
    "\n",
    "    # --- 2. Generate Steered Output ---\n",
    "    print(f\"\\n--- Steered Output (Layer {layer}, Coef {steering_coefficient}) ---\")\n",
    "    \n",
    "    prompt_tokens = tokenizer(chat_prompt, return_tensors=\"pt\").input_ids\n",
    "    prompt_length = prompt_tokens.shape[1]\n",
    "    \n",
    "    target_position_index = prompt_length - 1\n",
    "    \n",
    "    steering_vector = sadness_vectors[layer].to(model.cfg.device)\n",
    "    scaled_vector = steering_coefficient * steering_vector\n",
    "\n",
    "    # THE FIX IS HERE: We add a conditional check inside the hook.\n",
    "    def single_position_steering_hook(activation, hook):\n",
    "        # Only apply the hook on the first forward pass, when the sequence length\n",
    "        # matches the full prompt length.\n",
    "        if activation.shape[1] == prompt_length:\n",
    "            activation[:, target_position_index, :] += scaled_vector\n",
    "        \n",
    "        # For all subsequent generation steps (where seq_len=1), this does nothing.\n",
    "        return activation\n",
    "\n",
    "    hook_name = f\"blocks.{layer}.hook_resid_post\"\n",
    "\n",
    "    with model.hooks(fwd_hooks=[(hook_name, single_position_steering_hook)]):\n",
    "        steered_output = model.generate(\n",
    "            chat_prompt, \n",
    "            max_new_tokens=50, \n",
    "            do_sample=False\n",
    "        )\n",
    "    \n",
    "    print(steered_output)"
   ]
  },
  {
   "cell_type": "code",
   "execution_count": 28,
   "id": "2a67e56e",
   "metadata": {},
   "outputs": [
    {
     "name": "stdout",
     "output_type": "stream",
     "text": [
      "--- Original Output ---\n"
     ]
    },
    {
     "name": "stderr",
     "output_type": "stream",
     "text": [
      " 76%|███████▌  | 38/50 [00:01<00:00, 21.19it/s]\n"
     ]
    },
    {
     "name": "stdout",
     "output_type": "stream",
     "text": [
      "user\n",
      "\n",
      "I went to the park with my friends today and we had a great time.assistant\n",
      "\n",
      "That sounds like a lot of fun! What did you and your friends do at the park? Did you play any games, have a picnic, or just hang out and enjoy the scenery?\n",
      "\n",
      "--- Steered Output (Layer 25, Coef -10) ---\n"
     ]
    },
    {
     "name": "stderr",
     "output_type": "stream",
     "text": [
      " 78%|███████▊  | 39/50 [00:01<00:00, 21.18it/s]"
     ]
    },
    {
     "name": "stdout",
     "output_type": "stream",
     "text": [
      "user\n",
      "\n",
      "I went to the park with my friends today and we had a great time.assistant\n",
      "\n",
      ":// That sounds like a lot of fun! What did you and your friends do at the park? Did you play any games, have a picnic, or just hang out and enjoy the scenery?\n"
     ]
    },
    {
     "name": "stderr",
     "output_type": "stream",
     "text": [
      "\n"
     ]
    }
   ],
   "source": [
    "\n",
    "test_prompt = \"I went to the park with my friends today and we had a great time.\"\n",
    "test_layer = 25\n",
    "test_coefficient = -10\n",
    "\n",
    "test_single_steering_nudge(model, model.tokenizer, test_prompt, test_layer, sadness_vectors, test_coefficient)"
   ]
  },
  {
   "cell_type": "code",
   "execution_count": 30,
   "id": "ebf988f8",
   "metadata": {},
   "outputs": [
    {
     "name": "stdout",
     "output_type": "stream",
     "text": [
      "Extracting sad test activations...\n"
     ]
    },
    {
     "name": "stderr",
     "output_type": "stream",
     "text": [
      "Processing Batches: 100%|██████████| 4/4 [00:00<00:00,  5.64it/s]\n"
     ]
    },
    {
     "name": "stdout",
     "output_type": "stream",
     "text": [
      "Extracting happy test activations...\n"
     ]
    },
    {
     "name": "stderr",
     "output_type": "stream",
     "text": [
      "Processing Batches: 100%|██████████| 4/4 [00:00<00:00,  5.95it/s]"
     ]
    },
    {
     "name": "stdout",
     "output_type": "stream",
     "text": [
      "\n",
      "--- Checking Direction of Vector from Layer 15 ---\n",
      "Mean projection of SAD prompts: -752.0000\n",
      "Mean projection of HAPPY prompts: -213.0000\n",
      "Separation (Sad - Happy): -540.0000\n"
     ]
    },
    {
     "name": "stderr",
     "output_type": "stream",
     "text": [
      "\n"
     ]
    }
   ],
   "source": [
    "def check_vector_direction(sadness_vector, sad_activations, happy_activations):\n",
    "    \"\"\"Calculates and prints the projections of test data onto a steering vector.\"\"\"\n",
    "    \n",
    "    # Project the sad test activations onto the vector\n",
    "    # We expect this to be positive and large\n",
    "    sad_projections = sad_activations @ sadness_vector\n",
    "    \n",
    "    # Project the happy test activations onto the vector\n",
    "    # We expect this to be negative and large\n",
    "    happy_projections = happy_activations @ sadness_vector\n",
    "    \n",
    "    print(f\"Mean projection of SAD prompts: {sad_projections.mean().item():.4f}\")\n",
    "    print(f\"Mean projection of HAPPY prompts: {happy_projections.mean().item():.4f}\")\n",
    "    \n",
    "    # A good vector should have a clear separation\n",
    "    separation = sad_projections.mean() - happy_projections.mean()\n",
    "    print(f\"Separation (Sad - Happy): {separation.item():.4f}\")\n",
    "\n",
    "# --- Run the check ---\n",
    "# First, extract test activations (you might need to run get_last_token_activations again)\n",
    "print(\"Extracting sad test activations...\")\n",
    "sad_test_activations = get_last_token_activations(model, model.tokenizer, sad_test, target_layers)\n",
    "print(\"Extracting happy test activations...\")\n",
    "happy_test_activations = get_last_token_activations(model, model.tokenizer, happy_test, target_layers)\n",
    "\n",
    "# Now, check the vector for a specific layer\n",
    "test_layer = 15\n",
    "sadness_vector = sadness_vectors[test_layer].to(device)\n",
    "sad_acts_for_layer = sad_test_activations[test_layer].to(device)\n",
    "happy_acts_for_layer = happy_test_activations[test_layer].to(device)\n",
    "\n",
    "print(f\"\\n--- Checking Direction of Vector from Layer {test_layer} ---\")\n",
    "check_vector_direction(sadness_vector, sad_acts_for_layer, happy_acts_for_layer)"
   ]
  },
  {
   "cell_type": "code",
   "execution_count": 32,
   "id": "70163325",
   "metadata": {},
   "outputs": [
    {
     "name": "stdout",
     "output_type": "stream",
     "text": [
      "\n",
      "--- Checking Alignment of Vector from Layer 18 ---\n",
      "Mean cosine similarity for SAD prompts: -0.1357\n",
      "Mean cosine similarity for HAPPY prompts: -0.0776\n",
      "Cosine Sim Separation (Sad - Happy): -0.0581\n"
     ]
    },
    {
     "data": {
      "image/png": "[encoded data removed]",
      "text/plain": [
       "<Figure size 800x500 with 1 Axes>"
      ]
     },
     "metadata": {},
     "output_type": "display_data"
    }
   ],
   "source": [
    "import torch.nn.functional as F\n",
    "import matplotlib.pyplot as plt\n",
    "\n",
    "def check_vector_alignment(sadness_vector, sad_activations, happy_activations):\n",
    "    \"\"\"Calculates cosine similarity to check vector alignment.\"\"\"\n",
    "    # Ensure vector is normalized for a clean cosine similarity interpretation\n",
    "    sadness_vector_norm = sadness_vector / torch.linalg.norm(sadness_vector)\n",
    "\n",
    "    # Cosine similarity between each sad activation and the sadness vector\n",
    "    sad_sims = F.cosine_similarity(sad_activations, sadness_vector_norm.unsqueeze(0))\n",
    "    \n",
    "    # Cosine similarity between each happy activation and the sadness vector\n",
    "    happy_sims = F.cosine_similarity(happy_activations, sadness_vector_norm.unsqueeze(0))\n",
    "    \n",
    "    print(f\"Mean cosine similarity for SAD prompts: {sad_sims.mean().item():.4f}\")\n",
    "    print(f\"Mean cosine similarity for HAPPY prompts: {happy_sims.mean().item():.4f}\")\n",
    "    \n",
    "    separation_score = sad_sims.mean() - happy_sims.mean()\n",
    "    print(f\"Cosine Sim Separation (Sad - Happy): {separation_score.item():.4f}\")\n",
    "    \n",
    "    # --- FIX IS HERE ---\n",
    "    # Convert to float32 before converting to numpy for plotting\n",
    "    sad_sims_for_plotting = sad_sims.to(torch.float32).cpu().numpy()\n",
    "    happy_sims_for_plotting = happy_sims.to(torch.float32).cpu().numpy()\n",
    "    \n",
    "    # Let's also see the distribution\n",
    "    plt.figure(figsize=(8, 5))\n",
    "    plt.hist(sad_sims_for_plotting, bins=30, alpha=0.7, label='Sad Prompts')\n",
    "    plt.hist(happy_sims_for_plotting, bins=30, alpha=0.7, label='Happy Prompts')\n",
    "    plt.xlabel(\"Cosine Similarity with Sadness Vector\")\n",
    "    plt.ylabel(\"Frequency\")\n",
    "    plt.title(f\"Distribution of Cosine Similarities for Layer {test_layer}\")\n",
    "    plt.legend()\n",
    "    plt.grid(True)\n",
    "    plt.show()\n",
    "\n",
    "# --- Re-run the check ---\n",
    "# (Assuming all variables from the previous step are still loaded)\n",
    "test_layer = 18\n",
    "sadness_vector = sadness_vectors[test_layer].to(device)\n",
    "sad_acts_for_layer = sad_test_activations[test_layer].to(device)\n",
    "happy_acts_for_layer = happy_test_activations[test_layer].to(device)\n",
    "\n",
    "print(f\"\\n--- Checking Alignment of Vector from Layer {test_layer} ---\")\n",
    "check_vector_alignment(sadness_vector, sad_acts_for_layer, happy_acts_for_layer)"
   ]
  },
  {
   "cell_type": "code",
   "execution_count": null,
   "id": "8de7c6f3",
   "metadata": {},
   "outputs": [],
   "source": []
  }
 ],
 "metadata": {
  "kernelspec": {
   "display_name": ".venv",
   "language": "python",
   "name": "python3"
  },
  "language_info": {
   "codemirror_mode": {
    "name": "ipython",
    "version": 3
   },
   "file_extension": ".py",
   "mimetype": "text/x-python",
   "name": "python",
   "nbconvert_exporter": "python",
   "pygments_lexer": "ipython3",
   "version": "3.10.18"
  }
 },
 "nbformat": 4,
 "nbformat_minor": 5
}
