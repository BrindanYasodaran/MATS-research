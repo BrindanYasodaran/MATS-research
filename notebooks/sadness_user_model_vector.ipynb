{
 "cells": [
  {
   "cell_type": "code",
   "execution_count": 2,
   "id": "30f71dfd",
   "metadata": {},
   "outputs": [],
   "source": [
    "import random\n",
    "from pathlib import Path\n"
   ]
  },
  {
   "cell_type": "code",
   "execution_count": 3,
   "id": "355b3845",
   "metadata": {},
   "outputs": [],
   "source": [
    "\n",
    "def load_and_split_data(file_path, train_split_ratio=0.8, random_seed=42):\n",
    "    \"\"\"\n",
    "    Loads a text file, shuffles its lines, and splits it into training and testing sets.\n",
    "\n",
    "    Args:\n",
    "        file_path (Path or str): The path to the text file.\n",
    "        train_split_ratio (float): The proportion of data to allocate to the training set.\n",
    "        random_seed (int): Seed for reproducibility.\n",
    "\n",
    "    Returns:\n",
    "        tuple[list[str], list[str]]: A tuple containing the training set and testing set.\n",
    "    \"\"\"\n",
    "    print(f\"Loading data from: {file_path}\")\n",
    "    \n",
    "    # Ensure the file exists\n",
    "    if not Path(file_path).is_file():\n",
    "        print(f\"Error: File not found at {file_path}\")\n",
    "        return [], []\n",
    "        \n",
    "    # Read all lines from the file\n",
    "    with open(file_path, 'r', encoding='utf-8') as f:\n",
    "        # a.strip() removes leading/trailing whitespace, including the newline character\n",
    "        prompts = [line.strip() for line in f if line.strip()]\n",
    "\n",
    "    # Set the random seed for reproducibility and shuffle the prompts\n",
    "    random.seed(random_seed)\n",
    "    random.shuffle(prompts)\n",
    "\n",
    "    # Calculate the split index\n",
    "    split_index = int(len(prompts) * train_split_ratio)\n",
    "\n",
    "    # Split the data\n",
    "    train_set = prompts[:split_index]\n",
    "    test_set = prompts[split_index:]\n",
    "\n",
    "    print(f\"  - Total prompts: {len(prompts)}\")\n",
    "    print(f\"  - Training set size: {len(train_set)}\")\n",
    "    print(f\"  - Test set size: {len(test_set)}\\n\")\n",
    "    \n",
    "    return train_set, test_set\n",
    "\n",
    "# --- Main script ---ty. Please check sadness.txt.\")"
   ]
  },
  {
   "cell_type": "code",
   "execution_count": 4,
   "id": "c2587c17",
   "metadata": {},
   "outputs": [
    {
     "name": "stdout",
     "output_type": "stream",
     "text": [
      "Loading data from: /workspace/MATS-research/data/emotion_user_prompts/happiness.txt\n",
      "  - Total prompts: 505\n",
      "  - Training set size: 404\n",
      "  - Test set size: 101\n",
      "\n",
      "Loading data from: /workspace/MATS-research/data/emotion_user_prompts/sadness.txt\n",
      "  - Total prompts: 532\n",
      "  - Training set size: 425\n",
      "  - Test set size: 107\n",
      "\n"
     ]
    }
   ],
   "source": [
    "\n",
    "# Define the file paths\n",
    "happy_filepath = '/workspace/MATS-research/data/emotion_user_prompts/happiness.txt'\n",
    "sad_filepath = '/workspace/MATS-research/data/emotion_user_prompts/sadness.txt' # Assuming you have a sadness.txt file\n",
    "\n",
    "# Load and split the happiness data\n",
    "happy_train, happy_test = load_and_split_data(happy_filepath)\n",
    "\n",
    "# Load and split the sadness data\n",
    "# You will need to create a 'sadness.txt' file in the same format as 'happiness.txt'\n",
    "sad_train, sad_test = load_and_split_data(sad_filepath)\n"
   ]
  },
  {
   "cell_type": "code",
   "execution_count": null,
   "id": "8b82eb30",
   "metadata": {},
   "outputs": [],
   "source": []
  }
 ],
 "metadata": {
  "kernelspec": {
   "display_name": ".venv",
   "language": "python",
   "name": "python3"
  },
  "language_info": {
   "codemirror_mode": {
    "name": "ipython",
    "version": 3
   },
   "file_extension": ".py",
   "mimetype": "text/x-python",
   "name": "python",
   "nbconvert_exporter": "python",
   "pygments_lexer": "ipython3",
   "version": "3.10.18"
  }
 },
 "nbformat": 4,
 "nbformat_minor": 5
}
