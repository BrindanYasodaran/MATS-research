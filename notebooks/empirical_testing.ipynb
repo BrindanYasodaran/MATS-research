{
 "cells": [
  {
   "cell_type": "code",
   "execution_count": 1,
   "id": "4c2a071b",
   "metadata": {},
   "outputs": [
    {
     "name": "stderr",
     "output_type": "stream",
     "text": [
      "/workspace/MATS-research/.venv/lib/python3.10/site-packages/tqdm/auto.py:21: TqdmWarning: IProgress not found. Please update jupyter and ipywidgets. See https://ipywidgets.readthedocs.io/en/stable/user_install.html\n",
      "  from .autonotebook import tqdm as notebook_tqdm\n"
     ]
    }
   ],
   "source": [
    "\n",
    "import torch\n",
    "from transformer_lens import HookedTransformer\n",
    "import os\n",
    "import pandas as pd\n",
    "from IPython.display import display, HTML"
   ]
  },
  {
   "cell_type": "code",
   "execution_count": 2,
   "id": "9a7af08f",
   "metadata": {},
   "outputs": [
    {
     "name": "stdout",
     "output_type": "stream",
     "text": [
      "GPU detected: NVIDIA GeForce RTX 3090\n"
     ]
    }
   ],
   "source": [
    "\n",
    "# Check if a GPU is available and set the device\n",
    "if torch.cuda.is_available():\n",
    "    device = \"cuda\"\n",
    "    print(f\"GPU detected: {torch.cuda.get_device_name(0)}\")\n",
    "    torch.cuda.empty_cache()\n",
    "else:\n",
    "    device = \"cpu\"\n",
    "    print(\"No GPU detected, using CPU. This will be very slow.\")\n"
   ]
  },
  {
   "cell_type": "code",
   "execution_count": 3,
   "id": "091760da",
   "metadata": {},
   "outputs": [
    {
     "name": "stdout",
     "output_type": "stream",
     "text": [
      "\n",
      "--- Loading Model: meta-llama/Meta-Llama-3-8B-Instruct ---\n",
      "This will download and load ~16 GB of model weights. This may take several minutes.\n"
     ]
    },
    {
     "name": "stderr",
     "output_type": "stream",
     "text": [
      "`torch_dtype` is deprecated! Use `dtype` instead!\n",
      "Loading checkpoint shards: 100%|██████████| 4/4 [00:00<00:00, 101.94it/s]\n",
      "WARNING:root:With reduced precision, it is advised to use `from_pretrained_no_processing` instead of `from_pretrained`.\n",
      "WARNING:root:You are not using LayerNorm, so the writing weights can't be centered! Skipping\n"
     ]
    },
    {
     "name": "stdout",
     "output_type": "stream",
     "text": [
      "Loaded pretrained model meta-llama/Meta-Llama-3-8B-Instruct into HookedTransformer\n"
     ]
    }
   ],
   "source": [
    "\n",
    "# The model you specified\n",
    "model_name = \"meta-llama/Meta-Llama-3-8B-Instruct\"\n",
    "print(f\"\\n--- Loading Model: {model_name} ---\")\n",
    "print(\"This will download and load ~16 GB of model weights. This may take several minutes.\")\n",
    "\n",
    "# Load the model using HookedTransformer.\n",
    "# We use bfloat16 for performance, which is well-supported by 3090 GPUs.\n",
    "model = HookedTransformer.from_pretrained(\n",
    "    model_name,\n",
    "    device=device,\n",
    "    torch_dtype=torch.bfloat16,\n",
    ")\n"
   ]
  },
  {
   "cell_type": "code",
   "execution_count": 4,
   "id": "ce74c2d0",
   "metadata": {},
   "outputs": [],
   "source": [
    "\n",
    "# --- 2. Helper Functions for Data Processing ---\n",
    "\n",
    "def split_conversation(text: str, user_identifier=\"HUMAN:\", ai_identifier=\"ASSISTANT:\") -> list[dict]:\n",
    "    \"\"\"\n",
    "    Parses the conversation text into a list of dictionaries,\n",
    "    each with a 'role' and 'content' key.\n",
    "    \"\"\"\n",
    "    messages = []\n",
    "    lines = text.strip().split('\\n')\n",
    "    \n",
    "    current_role = None\n",
    "    current_content = \"\"\n",
    "\n",
    "    for line in lines:\n",
    "        if line.startswith(user_identifier):\n",
    "            if current_role: # Save the previous message\n",
    "                messages.append({'role': current_role, 'content': current_content.strip()})\n",
    "\n",
    "            current_role = 'user'\n",
    "            current_content = line[len(user_identifier):].strip()\n",
    "        elif line.startswith(ai_identifier):\n",
    "            if current_role:\n",
    "                messages.append({'role': current_role, 'content': current_content.strip()})\n",
    "\n",
    "            current_role = 'assistant'\n",
    "            current_content = line[len(ai_identifier):].strip()\n",
    "        else:\n",
    "            # Append to the content of the last speaker\n",
    "            current_content += \"\\n\" + line\n",
    "    \n",
    "    # Add the last message\n",
    "    if current_role and current_content:\n",
    "        messages.append({'role': current_role, 'content': current_content.strip()})\n",
    "        \n",
    "    return messages"
   ]
  },
  {
   "cell_type": "code",
   "execution_count": null,
   "id": "2865136b",
   "metadata": {},
   "outputs": [],
   "source": []
  }
 ],
 "metadata": {
  "kernelspec": {
   "display_name": ".venv",
   "language": "python",
   "name": "python3"
  },
  "language_info": {
   "codemirror_mode": {
    "name": "ipython",
    "version": 3
   },
   "file_extension": ".py",
   "mimetype": "text/x-python",
   "name": "python",
   "nbconvert_exporter": "python",
   "pygments_lexer": "ipython3",
   "version": "3.10.18"
  }
 },
 "nbformat": 4,
 "nbformat_minor": 5
}
