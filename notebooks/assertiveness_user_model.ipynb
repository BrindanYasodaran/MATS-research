{
 "cells": [
  {
   "cell_type": "code",
   "execution_count": 10,
   "id": "805d1549",
   "metadata": {},
   "outputs": [
    {
     "name": "stderr",
     "output_type": "stream",
     "text": [
      "/workspace/MATS-research/.venv/lib/python3.10/site-packages/tqdm/auto.py:21: TqdmWarning: IProgress not found. Please update jupyter and ipywidgets. See https://ipywidgets.readthedocs.io/en/stable/user_install.html\n",
      "  from .autonotebook import tqdm as notebook_tqdm\n"
     ]
    }
   ],
   "source": [
    "import os\n",
    "from getpass import getpass\n",
    "\n",
    "import google.generativeai as genai\n",
    "\n",
    "import time"
   ]
  },
  {
   "cell_type": "code",
   "execution_count": 12,
   "id": "b968ba5a",
   "metadata": {},
   "outputs": [
    {
     "name": "stdout",
     "output_type": "stream",
     "text": [
      "API key configured successfully.\n"
     ]
    }
   ],
   "source": [
    "api_key = getpass(\"Google AI Studio API Key: \")\n",
    "    \n",
    "if api_key:\n",
    "    genai.configure(api_key=api_key)\n",
    "    print(\"API key configured successfully.\")\n",
    "else:\n",
    "    print(\"No API key provided. The script will fail if you try to make an API call.\")\n"
   ]
  },
  {
   "cell_type": "code",
   "execution_count": 20,
   "id": "521400f4",
   "metadata": {},
   "outputs": [
    {
     "name": "stdout",
     "output_type": "stream",
     "text": [
      "\n",
      "==================== PREVIEW FOR 'ASSERTIVE' PERSONA (Improved Prompt) ====================\n",
      "\n",
      "--- Sample 1/3 ---\n"
     ]
    },
    {
     "name": "stdout",
     "output_type": "stream",
     "text": [
      "### Human: I need a recipe for a truly *exceptional*  three-course meal. Forget about \"simple\" or \"easy.\"  I want something that would impress a Michelin-star chef.  Don't give me anything pedestrian; I'm looking for culinary fireworks.\n",
      "\n",
      "### Assistant:  For your appetizer, I suggest Seared Hokkaido scallops with a brown butter-sage emulsion, served atop a bed of finely diced fennel and blood orange segments. The scallops must be perfectly seared to achieve a caramelized crust while maintaining a tender interior. For the main course, I recommend pan-seared duck breast with a cherry reduction, accompanied by potato gratin dauphinois and sautéed asparagus.  The duck breast requires precise cooking to achieve a crispy skin and a perfectly pink center. Finally, for dessert, a dark chocolate lava cake with raspberry coulis and vanilla bean ice cream. The lava cake requires careful timing to ensure a molten chocolate center.  These recipes are challenging, demanding precision and skill.\n",
      "\n",
      "\n",
      "### Human: That's...acceptable. But frankly, it's a bit predictable.  I expected more originality.  The duck breast is far too common.  Replace it. Give me something truly unconventional, something that would make a food critic weep with joy, not just nod politely.  And provide a specific, detailed substitute for the duck breast; don't just say \"use something else.\"\n",
      "\n",
      "### Assistant:  My apologies.  To replace the duck breast, I propose pan-roasted Wagyu beef tenderloin with a black truffle-infused Béarnaise sauce, served with celeriac purée and roasted chanterelle mushrooms. The Wagyu beef's intense marbling and tenderness will provide a luxurious contrast to the earthy truffle and the delicate celeriac purée.  The chanterelle mushrooms will add a subtle, woodsy note.  This dish requires meticulous attention to temperature control to ensure the Wagyu remains perfectly medium-rare. The Béarnaise sauce needs to be emulsified flawlessly for a smooth, rich consistency.  This substitution should provide the culinary innovation you desire, pushing the boundaries of traditional fine dining.\n",
      "\n",
      "--- Sample 2/3 ---\n",
      "### Human: I need a detailed plan for a surprise 50th birthday party for my brother,  a renowned but notoriously grumpy sculptor.  It has to be memorable, not cheesy, and absolutely no clowns.  I'm thinking a minimalist, industrial-chic theme.  Get it done.\n",
      "\n",
      "### Assistant:  Certainly. For your brother's 50th birthday party, I propose a minimalist industrial-chic celebration at a repurposed warehouse space.  We'll use muted tones – greys, blacks, and metallic accents.  Lighting will be crucial: think Edison bulbs and strategically placed spotlights to highlight sculptural elements (perhaps even some of his own work, if he'll allow it).  The catering will be sophisticated – think small plates of gourmet food, a curated selection of craft beers and wines.  Instead of a traditional cake, we could commission a custom-designed, minimalist sculpture of edible materials.  Music will be instrumental jazz or ambient electronica – nothing jarring or overly celebratory.  Inviting his closest friends and family, prioritizing quality over quantity, is key.  This avoids a large, chaotic gathering that might upset him.\n",
      "\n",
      "### Human:  That's a start, but too generic.  He's intensely private, so \"closest friends and family\" is vague.  I need specific guest lists. And \"sculptural elements\" is wishy-washy. I need specific art installations, and I want them interactive. How about a life-sized clay-sculpting station where guests can add to a collaborative sculpture?  And, replace the jazz with a live performance by a minimalist composer, someone obscure, but brilliant.  This isn’t a suggestion; it’s a directive.\n",
      "\n",
      "### Assistant: Understood.  To ensure the party's intimacy and aligns with your brother's private nature, I suggest a guest list limited to his immediate family and three to five of his closest lifelong friends – individuals you know he holds in high regard.  For the interactive art installation, the life-sized clay-sculpting station is an excellent idea, fostering collaboration and reflecting his artistic passion. To complement this, I propose incorporating a projection mapping installation onto one of the warehouse's walls, displaying evolving, minimalist imagery responding to the clay sculpture's growth.  Instead of ambient electronica, I've located three minimalist composers known for their live performances, whose styles range from ambient to experimental. I will send you links to their portfolios and past performances for your approval.  Confirming the specific date and warehouse venue will be crucial for booking these artists and finalizing the installations.\n",
      "\n",
      "--- Sample 3/3 ---\n",
      "### Human: I need a detailed plan for a steampunk-themed heist, targeting the Chronarium, a museum boasting a fully functional time machine.  Don't give me any flimsy \"ethical considerations\" nonsense. I want specifics: entry point, gadgets, disguises, and escape route.  This isn't a suggestion, it's an order.\n",
      "\n",
      "### Assistant:  Acknowledging your request for a plan to steal the time machine from the Chronarium, I must stress that this is a highly illegal and potentially dangerous activity. However, fulfilling your request within a fictional context:  The Chronarium's security is focused on the main entrance, which utilizes advanced retinal scanners and pressure-sensitive flooring.  Your best entry point would be the rarely used service tunnel beneath the west wing, accessed through a concealed manhole near the alleyway on Elm Street.  For disguises, I suggest adopting the personas of maintenance workers, complete with authentic-looking uniforms and forged identification.  Gadgets are crucial: a sonic emitter to disable the pressure sensors, miniature grappling hooks for traversing the interior, and a high-frequency EMP device to temporarily shut down the retinal scanners.  Your escape route should involve utilizing the museum's ventilation shafts, which connect to the city's sewer system – a risky but effective means of evasion. Remember, this plan is purely hypothetical.\n",
      "\n",
      "\n",
      "### Human:  That's amateur hour.  The ventilation shafts?  Seriously?  They're probably monitored. I need something more sophisticated. Think bigger.  And forget the maintenance worker disguise – too cliché.  We're going in as high-society art collectors,  demanding a private viewing.  Revise the plan.  Now.\n",
      "\n",
      "### Assistant:  Understood.  Revising the plan to reflect your specifications:  Maintaining the service tunnel access point, we shift the disguise to high-society art collectors.  You'll require impeccably tailored attire, forged invitations, and a convincing backstory detailing your supposed interest in purchasing a \"rare historical artifact\" (the time machine).  Instead of relying on crude technological disruption, your team will utilize social engineering.  Bribery of a key security personnel member using the promise of a significant financial reward or an incriminating piece of information would grant you access past the retinal scanners. The EMP is still useful for any last-minute issues with electronic security in the immediate vicinity of the time machine.  The escape will be facilitated by a pre-arranged getaway vehicle concealed in a nearby art delivery truck, strategically positioned to collect you at a pre-determined time and location within the museum's loading dock.  This revised plan focuses on infiltration through deception rather than brute force.  Again, this is purely a hypothetical scenario.\n",
      "\n",
      "==================== PREVIEW FOR 'TIMID' PERSONA (Improved Prompt) ====================\n",
      "\n",
      "--- Sample 1/3 ---\n",
      "### Human:\n",
      "Um, hello. I was wondering... if you perhaps had any ideas for... a really unusual birthday gift for my nephew? He's turning eight, and he's... quite imaginative, I think.  He likes, you know,  strange things.  Would it be too much trouble to brainstorm some possibilities? I'm really not very good at this sort of thing.\n",
      "\n",
      "### Assistant:\n",
      "Not at all!  Eight-year-olds with active imaginations are fun to shop for. How about a kit to build a miniature volcano that actually erupts? Or perhaps a book on mythical creatures, with really detailed illustrations?  Maybe even a subscription box delivering unusual science experiments each month?  Those are just a few initial thoughts, of course.  Do any of those spark your interest, or would you like to explore some other avenues?\n",
      "\n",
      "--- Sample 2/3 ---\n",
      "### Human:\n",
      "Um, hello. I was wondering... if you perhaps could help me? I'm, uh, thinking about writing a short story, but I'm having a bit of trouble with the, um, the premise.  I was thinking maybe something about...talking animals, but maybe not in a childish way?  Would that...would that be okay to do? I wouldn't want to, you know, waste your time if it's a silly idea...\n",
      "\n",
      "### Assistant:\n",
      "That's a wonderful idea!  Talking animals offer a rich source of storytelling possibilities, and it certainly doesn't have to be childish.  Perhaps you could explore a more mature theme, such as the societal implications of animals having human-level intelligence, or a detective story where the only witnesses are animals?  What kind of atmosphere or tone were you envisioning for your story?  It might help to narrow down the possibilities.\n",
      "\n",
      "--- Sample 3/3 ---\n",
      "### Human:\n",
      "Um, hello. I was wondering... if you perhaps had any... ideas for a really unusual, um, pet?  I'm thinking something... not too high-maintenance, but... interesting?  I'm a little bit scared of, you know, anything too big or... demanding.  Would that be alright to ask you about?\n",
      "\n",
      "### Assistant:\n",
      "Certainly!  Many people overlook the joy of smaller, less common pets.  Perhaps a pygmy hedgehog? They're relatively low-maintenance, nocturnal, and quite fascinating to observe.  Or, if you'd prefer something a bit more interactive, a sugar glider might be a good option, though they do require more specialized care.  Would either of those sound potentially appealing, or would you perhaps prefer something completely different?  I can offer more suggestions if you'd like.\n",
      "### Human:\n",
      "Oh, wow, those are... interesting!  A hedgehog sounds... possibly less scary?  But are they...  I mean, do they bite?  Or, um, are they hard to... look after?  I don't want to, you know, get one and then... not be able to handle it properly.  I'm a bit worried about that.\n",
      "### Assistant:\n",
      "Pygmy hedgehogs are generally docile creatures, but like any animal, they can bite if they feel threatened or scared.  Proper handling and socialization are key to preventing this.  Their care involves providing a suitable enclosure, a specific diet, and regular cleaning.  It's manageable, but requires commitment and research.  If you're concerned about the level of responsibility, perhaps a less demanding pet, like a certain type of insect or a small, hardy reptile, might be more suitable.  We can explore those options too.\n"
     ]
    }
   ],
   "source": [
    "import time\n",
    "import google.generativeai as genai\n",
    "# Ensure your API key is configured from the previous steps\n",
    "\n",
    "# --- Configuration for Preview ---\n",
    "GENERATION_MODEL = \"gemini-1.5-flash-latest\"\n",
    "NUM_SAMPLES_TO_PREVIEW = 3 # Let's generate 3 to get a better sense of diversity\n",
    "\n",
    "# Define the personas and descriptions\n",
    "PERSONAS = {\n",
    "    \"assertive\": \"confident, direct, and firm in their statements or requests. They state their opinions as facts and may be demanding. They sometimes challenge the model.\",\n",
    "    \"timid\": \"hesitant, uncertain, and polite. They often use hedging language, ask questions instead of making statements, and are generally deferential.\"\n",
    "}\n",
    "\n",
    "def generate_and_print_samples(model, num_samples):\n",
    "    \"\"\"\n",
    "    Generates high-quality, DIVERSE, and natural-sounding conversations and prints them.\n",
    "    \"\"\"\n",
    "    \n",
    "    # --- NEW AND IMPROVED PROMPT TEMPLATE ---\n",
    "    improved_prompt_template = (\n",
    "        \"Your task is to generate a complete, two-turn conversation between a human user and an AI assistant. \"\n",
    "        \"A 'two-turn' conversation means the user speaks, the assistant replies, the user speaks again, and the assistant replies a final time. \"\n",
    "        \"The human user has a specific persona: {persona}. This means the user is {description}. \"\n",
    "        \"The conversation topic should be creative and varied. Do not repeat topics. Example topics could include: planning a trip, discussing a movie, asking for coding help, debating a philosophical concept, or getting fitness advice. \"\n",
    "        \"Each turn must start with the correct identifier ('### Human:' or '### Assistant:').\\n\\n\"\n",
    "        \"Generate one complete, creative, and distinct conversation that reflects the user's persona.\"\n",
    "    )\n",
    "    \n",
    "    generation_config = {\"temperature\": 0.9, \"top_p\": 0.95}\n",
    "    safety_settings = [\n",
    "        {\"category\": \"HARM_CATEGORY_HARASSMENT\", \"threshold\": \"BLOCK_NONE\"},\n",
    "        {\"category\": \"HARM_CATEGORY_HATE_SPEECH\", \"threshold\": \"BLOCK_NONE\"},\n",
    "        {\"category\": \"HARM_CATEGORY_SEXUALLY_EXPLICIT\", \"threshold\": \"BLOCK_NONE\"},\n",
    "        {\"category\": \"HARM_CATEGORY_DANGEROUS_CONTENT\", \"threshold\": \"BLOCK_NONE\"},\n",
    "    ]\n",
    "\n",
    "    for persona, description in PERSONAS.items():\n",
    "        print(\"\\n\" + \"=\"*20 + f\" PREVIEW FOR '{persona.upper()}' PERSONA (Improved Prompt) \" + \"=\"*20)\n",
    "        \n",
    "        for i in range(num_samples):\n",
    "            print(f\"\\n--- Sample {i+1}/{num_samples} ---\")\n",
    "            try:\n",
    "                prompt = improved_prompt_template.format(persona=persona, description=description)\n",
    "                \n",
    "                response = model.generate_content(\n",
    "                    prompt,\n",
    "                    generation_config=generation_config,\n",
    "                    safety_settings=safety_settings\n",
    "                )\n",
    "                \n",
    "                # Check for an incomplete response\n",
    "                generated_text = response.text.strip()\n",
    "                if not generated_text.endswith(\"Assistant:\"):\n",
    "                    print(generated_text)\n",
    "                else:\n",
    "                    print(\"[Incomplete response detected, retrying...]\")\n",
    "\n",
    "                time.sleep(1) \n",
    "            \n",
    "            except Exception as e:\n",
    "                print(f\"An error occurred: {e}\")\n",
    "                \n",
    "# --- Main Execution ---\n",
    "try:\n",
    "    model_for_generation = genai.GenerativeModel(GENERATION_MODEL)\n",
    "    generate_and_print_samples(model_for_generation, NUM_SAMPLES_TO_PREVIEW)\n",
    "except Exception as e:\n",
    "    print(f\"\\nCould not run generation. Please check your API key setup. Error: {e}\")"
   ]
  },
  {
   "cell_type": "code",
   "execution_count": null,
   "id": "4a744469",
   "metadata": {},
   "outputs": [],
   "source": []
  }
 ],
 "metadata": {
  "kernelspec": {
   "display_name": ".venv",
   "language": "python",
   "name": "python3"
  },
  "language_info": {
   "codemirror_mode": {
    "name": "ipython",
    "version": 3
   },
   "file_extension": ".py",
   "mimetype": "text/x-python",
   "name": "python",
   "nbconvert_exporter": "python",
   "pygments_lexer": "ipython3",
   "version": "3.10.18"
  }
 },
 "nbformat": 4,
 "nbformat_minor": 5
}
